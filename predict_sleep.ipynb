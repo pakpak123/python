{
  "nbformat": 4,
  "nbformat_minor": 0,
  "metadata": {
    "colab": {
      "name": "predict_sleep.ipynb",
      "provenance": [],
      "collapsed_sections": [],
      "include_colab_link": true
    },
    "kernelspec": {
      "display_name": "Python 3",
      "name": "python3"
    },
    "language_info": {
      "name": "python"
    }
  },
  "cells": [
    {
      "cell_type": "markdown",
      "metadata": {
        "id": "view-in-github",
        "colab_type": "text"
      },
      "source": [
        "<a href=\"https://colab.research.google.com/github/pakpak123/python/blob/main/predict_sleep.ipynb\" target=\"_parent\"><img src=\"https://colab.research.google.com/assets/colab-badge.svg\" alt=\"Open In Colab\"/></a>"
      ]
    },
    {
      "cell_type": "code",
      "metadata": {
        "id": "6NzjkqQuym3Q",
        "colab": {
          "base_uri": "https://localhost:8080/"
        },
        "outputId": "15bbd738-4ecc-479d-8e1e-2f786548ddf7"
      },
      "source": [
        "#import lib\n",
        "import numpy as np\n",
        "import pandas as pd \n",
        "from sklearn.cluster import KMeans\n",
        "import matplotlib.pyplot as plt\n",
        "import seaborn as sns\n",
        "from mpl_toolkits.mplot3d import Axes3D\n",
        "import plotly.graph_objs as go\n",
        "from plotly import tools\n",
        "from plotly.subplots import make_subplots\n",
        "import plotly.offline as py\n",
        "import statsmodels.api as sm\n",
        "import warnings\n",
        "from sklearn.decomposition import PCA\n",
        "from sklearn.preprocessing import StandardScaler\n",
        "from itertools import combinations\n",
        "import math \n",
        "warnings.filterwarnings('ignore')\n",
        "sns.set()\n",
        "import xlrd \n",
        "from openpyxl import load_workbook"
      ],
      "execution_count": null,
      "outputs": [
        {
          "output_type": "stream",
          "name": "stderr",
          "text": [
            "/usr/local/lib/python3.7/dist-packages/statsmodels/tools/_testing.py:19: FutureWarning:\n",
            "\n",
            "pandas.util.testing is deprecated. Use the functions in the public API at pandas.testing instead.\n",
            "\n"
          ]
        }
      ]
    },
    {
      "cell_type": "code",
      "metadata": {
        "id": "2vyzdrVwLnmS"
      },
      "source": [
        "wb = xlrd.open_workbook(\"/content/testnewtimesclae_1.xlsx\")\n",
        "sheet1 = wb.sheet_by_index(0) \n",
        "\n"
      ],
      "execution_count": null,
      "outputs": []
    },
    {
      "cell_type": "code",
      "metadata": {
        "id": "ZiE_b-AVLoYp"
      },
      "source": [
        "sheet1.cell_value (150,1)"
      ],
      "execution_count": null,
      "outputs": []
    },
    {
      "cell_type": "code",
      "metadata": {
        "id": "az1zCUYshS6v"
      },
      "source": [
        "wb2 =load_workbook(\"/content/testnewtimesclae_1.xlsx\")\n",
        "sheets = wb2.sheetnames \n",
        "Sheet1 = wb2[sheets[0]]\n",
        "Sheet1.cell(row = 152 , column = 1).value = input(\"your amoumt time of sleep in hours :\") "
      ],
      "execution_count": null,
      "outputs": []
    },
    {
      "cell_type": "code",
      "metadata": {
        "id": "pJptevKjhbFH"
      },
      "source": [
        "print(\"06.00 = 0 , 05.00 = 1 , 04.00 = 2, 03.00 =3 ,02.00 = 4 ...\")\n",
        "Sheet1.cell(row = 152 , column = 2).value = input(\"your sleep time :\") "
      ],
      "execution_count": null,
      "outputs": []
    },
    {
      "cell_type": "code",
      "metadata": {
        "id": "pHCeiHl3hc1m"
      },
      "source": [
        "Sheet1.cell(row = 152 , column = 3).value = input(\"your nap time in hours :\") "
      ],
      "execution_count": null,
      "outputs": []
    },
    {
      "cell_type": "code",
      "metadata": {
        "id": "tKAtldv1hfLK"
      },
      "source": [
        "print(\" dark = 8 , dimlight = 16 , bright = 24 \")\n",
        "Sheet1.cell(row = 152 , column = 4).value = input(\"your ligh in bedroom :\") \n",
        "Sheet1.cell(row = 152 , column = 5).value = \"User_input\" \n",
        "wb2.save((\"/content/testnewtimesclae_1.xlsx\"))"
      ],
      "execution_count": null,
      "outputs": []
    },
    {
      "cell_type": "code",
      "metadata": {
        "id": "dOM6_uyohhIe"
      },
      "source": [
        "from sklearn.decomposition import PCA\n",
        "from sklearn.preprocessing import StandardScaler\n",
        "X=df[cols]\n",
        "scaler = StandardScaler()\n",
        "X_t=scaler.fit_transform(X)\n",
        "dz=pd.DataFrame(X_t.round(4), columns=[f'z_{c}' for c in cols])\n",
        "pca = PCA(n_components=3)\n",
        "pca.fit_transform(X_t)[:5] # find covariance from X_t(z-score) and dot with X_t to Transfrom to indicated numbers of Principle component "
      ],
      "execution_count": null,
      "outputs": []
    },
    {
      "cell_type": "code",
      "metadata": {
        "id": "lazdMwaJhrbO"
      },
      "source": [
        "X_pca = pca.fit_transform(X_t)"
      ],
      "execution_count": null,
      "outputs": []
    },
    {
      "cell_type": "code",
      "metadata": {
        "id": "_05sETJKhzvG"
      },
      "source": [
        "fig = plt.figure(figsize=(10,10))\n",
        "ax = fig.add_subplot(111, projection='3d')\n",
        "my_cmap = plt.get_cmap('hsv')\n",
        "ax.scatter(X_pca[:,0] , X_pca[:,1], X_pca[:,2] ,alpha = .5 , cmap = \"Set1\" , c = df.score.astype(\"category\").cat.codes)"
      ],
      "execution_count": null,
      "outputs": []
    },
    {
      "cell_type": "code",
      "metadata": {
        "id": "JDZksJ1Wh2YO"
      },
      "source": [
        "dd.to_csv(\"pca_result.csv\",index = False)"
      ],
      "execution_count": null,
      "outputs": []
    },
    {
      "cell_type": "markdown",
      "metadata": {
        "id": "Wig_Ggdxh7gm"
      },
      "source": [
        "predict by kmeans"
      ]
    },
    {
      "cell_type": "code",
      "metadata": {
        "id": "XlCJJ4CQh4XW"
      },
      "source": [
        "data = pd.read_csv('pca_result.csv')\n",
        "data\n",
        "\n",
        "x = data.iloc[:,0:3] # 1t for rows and second for columns\n",
        "x"
      ],
      "execution_count": null,
      "outputs": []
    },
    {
      "cell_type": "code",
      "metadata": {
        "id": "ztVW0LMuh562"
      },
      "source": [
        "# since elbow occured at 5, hence the optimal number of clusters for the mall data is 5 \n",
        "model = KMeans(n_clusters = 5, init = \"k-means++\", max_iter =500, n_init = 150, random_state = 0)\n",
        "y_clusters = model.fit_predict(x)"
      ],
      "execution_count": null,
      "outputs": []
    },
    {
      "cell_type": "code",
      "metadata": {
        "id": "rHCl4vsziBiO"
      },
      "source": [
        "# input matrix for segmentation\n",
        "x = data[['PC1','PC2','PC3']].values\n",
        "kmeans = KMeans(6)\n",
        "kmeans.fit(x)\n",
        "identified_clusters = kmeans.fit_predict(x)\n",
        "identified_clusters"
      ],
      "execution_count": null,
      "outputs": []
    },
    {
      "cell_type": "code",
      "metadata": {
        "id": "-eb15UEBiGhn"
      },
      "source": [
        "# find the optimal number of clusters using elbow method  -- >This is for 3 features = [age,anual income,spending score]\n",
        "WCSS = []\n",
        "for i in range(1,11):\n",
        "    model = KMeans(n_clusters = i,init = 'k-means++')\n",
        "    model.fit(x)\n",
        "    WCSS.append(model.inertia_)\n",
        "fig = plt.figure(figsize = (7,7))\n",
        "plt.plot(range(1,11),WCSS, linewidth=4, markersize=12,marker='o',color = 'red')\n",
        "plt.xticks(np.arange(11))\n",
        "plt.xlabel(\"Number of clusters\")\n",
        "plt.ylabel(\"WCSS\")\n",
        "plt.show()"
      ],
      "execution_count": null,
      "outputs": []
    },
    {
      "cell_type": "code",
      "metadata": {
        "id": "QCRcgrhLiIcH"
      },
      "source": [
        "# finding the clusters based on input matrix \"x\"\n",
        "model = KMeans(n_clusters = 6, init = \"k-means++\", max_iter = 300, n_init = 10, random_state = 0)\n",
        "y_clusters = model.fit_predict(x)"
      ],
      "execution_count": null,
      "outputs": []
    },
    {
      "cell_type": "code",
      "metadata": {
        "id": "G_v6TKZviKC3"
      },
      "source": [
        "# countplot to check the number of clusters and number of customers in each cluster\n",
        "sns.countplot(y_clusters)"
      ],
      "execution_count": null,
      "outputs": []
    },
    {
      "cell_type": "code",
      "metadata": {
        "id": "zQIAmhxWiLct"
      },
      "source": [
        "# 3d scatterplot using matplotlib\n",
        "\n",
        "fig = plt.figure(figsize = (15,15))\n",
        "ax = fig.add_subplot(111, projection='3d')\n",
        "ax.scatter(x[y_clusters == 0,0],x[y_clusters == 0,1],x[y_clusters == 0,2], s = 40 , color = 'blue', label = \"cluster 0\")\n",
        "ax.scatter(x[y_clusters == 1,0],x[y_clusters == 1,1],x[y_clusters == 1,2], s = 40 , color = 'orange', label = \"cluster 1\")\n",
        "ax.scatter(x[y_clusters == 2,0],x[y_clusters == 2,1],x[y_clusters == 2,2], s = 40 , color = 'green', label = \"cluster 2\")\n",
        "ax.scatter(x[y_clusters == 3,0],x[y_clusters == 3,1],x[y_clusters == 3,2], s = 40 , color = 'red', label = \"cluster 3\")\n",
        "ax.scatter(x[y_clusters == 4,0],x[y_clusters == 4,1],x[y_clusters == 4,2], s = 40 , color = 'purple', label = \"cluster 4\")\n",
        "ax.scatter(x[y_clusters == 5,0],x[y_clusters == 5,1],x[y_clusters == 5,2], s = 40 , color = 'black', label = \"cluster 5\")\n",
        "ax.set_xlabel('PC1-->')\n",
        "ax.set_ylabel('PC2-->')\n",
        "ax.set_zlabel('PC3-->')\n",
        "ax.legend()\n",
        "plt.show()"
      ],
      "execution_count": null,
      "outputs": []
    }
  ]
}